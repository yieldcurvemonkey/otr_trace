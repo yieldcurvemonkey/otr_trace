{
 "cells": [
  {
   "cell_type": "code",
   "execution_count": 18,
   "id": "9e23c727",
   "metadata": {},
   "outputs": [
    {
     "name": "stdout",
     "output_type": "stream",
     "text": [
      "The autoreload extension is already loaded. To reload it, use:\n",
      "  %reload_ext autoreload\n"
     ]
    }
   ],
   "source": [
    "%load_ext autoreload\n",
    "%autoreload 2\n",
    "%reload_ext autoreload\n",
    "\n",
    "import nest_asyncio\n",
    "nest_asyncio.apply()\n",
    "\n",
    "import plotly.express as px\n",
    "import plotly.graph_objects as go\n",
    "import plotly.io as pio\n",
    "pio.renderers.default = \"vscode\"            \n",
    "\n",
    "import matplotlib.pyplot as plt\n",
    "import matplotlib.pylab as pylab\n",
    "plt.style.use('ggplot')\n",
    "params = {'legend.fontsize': 'x-large',\n",
    "        'figure.figsize': (12, 8),\n",
    "        'axes.labelsize': 'x-large',\n",
    "        'axes.titlesize':'x-large',\n",
    "        'xtick.labelsize':'x-large',\n",
    "        'ytick.labelsize':'x-large'}\n",
    "pylab.rcParams.update(params)\n",
    "\n",
    "import pandas as pd\n",
    "import numpy as np\n",
    "\n",
    "import datetime\n",
    "import pytz\n",
    "NY_tz = pytz.timezone(\"America/New_York\") \n",
    "CHI_tz = pytz.timezone(\"America/Chicago\") \n",
    "UTC_tz = pytz.timezone(\"UTC\") "
   ]
  },
  {
   "cell_type": "code",
   "execution_count": 19,
   "id": "50d5f561",
   "metadata": {},
   "outputs": [],
   "source": [
    "import datetime\n",
    "import ujson as json\n",
    "from pathlib import Path\n",
    "from typing import Iterable, Optional\n",
    "\n",
    "import pandas as pd\n",
    "import pyarrow as pa\n",
    "import pyarrow.parquet as pq\n",
    "import pyarrow.dataset as ds\n",
    "import QuantLib as ql\n",
    "import tqdm\n",
    "\n",
    "\n",
    "def _df_to_parquet(df: pd.DataFrame, path: Path, *, compression: Optional[str] = \"zstd\"):\n",
    "    out = df.copy()\n",
    "    for col in out.columns:\n",
    "        s = out[col]\n",
    "\n",
    "    if s.dtype == \"object\" and s.map(type).nunique() > 1:\n",
    "        out[col] = s.astype(str)\n",
    "\n",
    "    path.parent.mkdir(parents=True, exist_ok=True)\n",
    "    tbl = pa.Table.from_pandas(out, preserve_index=False)\n",
    "    pq.write_table(tbl, path, compression=compression)"
   ]
  },
  {
   "cell_type": "code",
   "execution_count": 20,
   "id": "0e1c0110",
   "metadata": {},
   "outputs": [],
   "source": [
    "PATH_STORE = {\n",
    "    \"2Y\": Path(\"./TRACE_2Y\"),\n",
    "    \"3Y\": Path(\"./TRACE_3Y\"),\n",
    "    \"5Y\": Path(\"./TRACE_5Y\"),\n",
    "    \"7Y\": Path(\"./TRACE_7Y\"),\n",
    "    \"10Y\": Path(\"./TRACE_10Y\"),\n",
    "    \"20Y\": Path(\"./TRACE_20Y\"),\n",
    "    \"30Y\": Path(\"./TRACE_30Y\"),\n",
    "}"
   ]
  },
  {
   "cell_type": "code",
   "execution_count": 21,
   "id": "77fae12c",
   "metadata": {},
   "outputs": [],
   "source": [
    "from FinraFetcher import FinraDataFetcher\n",
    "ff = FinraDataFetcher(\n",
    "    debug_verbose=True,\n",
    "\tinfo_verbose=True,\n",
    "\terror_verbose=True,\n",
    ")"
   ]
  },
  {
   "cell_type": "code",
   "execution_count": null,
   "id": "7d7fdf57",
   "metadata": {},
   "outputs": [
    {
     "data": {
      "text/plain": [
       "DatetimeIndex(['2025-09-17'], dtype='datetime64[ns]', freq='B')"
      ]
     },
     "execution_count": 22,
     "metadata": {},
     "output_type": "execute_result"
    }
   ],
   "source": [
    "start = datetime.datetime(2025, 9, 1)\n",
    "end = datetime.datetime(2025, 9, 17)\n",
    "bdays = pd.date_range(start=start, end=end, freq=\"1b\")\n",
    "bdays"
   ]
  },
  {
   "cell_type": "code",
   "execution_count": 23,
   "id": "5ca54649",
   "metadata": {},
   "outputs": [
    {
     "name": "stderr",
     "output_type": "stream",
     "text": [
      "2025-09-27 14:19:05,488 - FinraDataFetcher - INFO - TRACE - FINRA totals probe took: 149.156s\n",
      "INFO\tTask(Task-1) FinraDataFetcher:FinraFetcher.py:_run()- TRACE - FINRA totals probe took: 149.156s\n",
      "2025-09-27 14:19:05,489 - FinraDataFetcher - DEBUG - TRACE - totals: {'2Y': 51795, '3Y': 51232, '5Y': 112806, '7Y': 43529, '10Y': 96630, '20Y': 16277, '30Y': 37963}\n",
      "DEBUG\tTask(Task-1) FinraDataFetcher:FinraFetcher.py:_run()- TRACE - totals: {'2Y': 51795, '3Y': 51232, '5Y': 112806, '7Y': 43529, '10Y': 96630, '20Y': 16277, '30Y': 37963}\n",
      "2025-09-27 14:41:47,479 - FinraDataFetcher - INFO - TRACE - Fetch All Took: 1361.990s\n",
      "INFO\tTask(Task-1) FinraDataFetcher:FinraFetcher.py:_run()- TRACE - Fetch All Took: 1361.990s\n",
      "2025-09-27 14:41:47,481 - FinraDataFetcher - INFO - TRACE - Total Time Elapsed: 1511.303s\n",
      "INFO\tTask(Task-2) FinraDataFetcher:FinraFetcher.py:fetch_historcal_trace_trade_history_by_cusip_v2()- TRACE - Total Time Elapsed: 1511.303s\n"
     ]
    }
   ],
   "source": [
    "for bd in bdays:\n",
    "    benchmarks = [\"2Y\", \"3Y\", \"5Y\", \"7Y\", \"10Y\", \"20Y\", \"30Y\"]\n",
    "    intraday_dict = ff.fetch_historcal_trace_trade_history_by_cusip_v2(\n",
    "        start_date=bd,\n",
    "        end_date=bd,\n",
    "        benchmark_terms=benchmarks,\n",
    "        # session_timeout_minutes=8,\n",
    "        # max_connections=8,\n",
    "        # max_in_flight=3,\n",
    "        force_close=False,\n",
    "    )\n",
    "    for bm in benchmarks:\n",
    "        PATH_STORE[bm].mkdir(parents=True, exist_ok=True)\n",
    "        output_path = PATH_STORE[bm] / f\"{bd.strftime('%Y-%m-%d')}.parquet\"\n",
    "        _df_to_parquet(intraday_dict[bm], output_path)"
   ]
  },
  {
   "cell_type": "code",
   "execution_count": null,
   "id": "b5303e8f",
   "metadata": {},
   "outputs": [],
   "source": [
    "intraday_dict = ff.fetch_historcal_trace_trade_history_by_cusip_v3(\n",
    "\tstart_date=datetime.datetime(2025, 9, 26),\n",
    "\tend_date=datetime.datetime(2025, 9, 26),\n",
    "\tbenchmark_terms=[\"10Y\"],\n",
    ")"
   ]
  },
  {
   "cell_type": "code",
   "execution_count": null,
   "id": "3321fcfe",
   "metadata": {},
   "outputs": [],
   "source": []
  }
 ],
 "metadata": {
  "kernelspec": {
   "display_name": "stir",
   "language": "python",
   "name": "python3"
  },
  "language_info": {
   "codemirror_mode": {
    "name": "ipython",
    "version": 3
   },
   "file_extension": ".py",
   "mimetype": "text/x-python",
   "name": "python",
   "nbconvert_exporter": "python",
   "pygments_lexer": "ipython3",
   "version": "3.13.5"
  }
 },
 "nbformat": 4,
 "nbformat_minor": 5
}
