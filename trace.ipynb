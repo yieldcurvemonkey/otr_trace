{
 "cells": [
  {
   "cell_type": "code",
   "execution_count": 1,
   "id": "9e23c727",
   "metadata": {},
   "outputs": [],
   "source": [
    "%load_ext autoreload\n",
    "%autoreload 2\n",
    "%reload_ext autoreload\n",
    "\n",
    "import nest_asyncio\n",
    "nest_asyncio.apply()\n",
    "\n",
    "import plotly.express as px\n",
    "import plotly.graph_objects as go\n",
    "import plotly.io as pio\n",
    "pio.renderers.default = \"vscode\"            \n",
    "\n",
    "import matplotlib.pyplot as plt\n",
    "import matplotlib.pylab as pylab\n",
    "plt.style.use('ggplot')\n",
    "params = {'legend.fontsize': 'x-large',\n",
    "        'figure.figsize': (12, 8),\n",
    "        'axes.labelsize': 'x-large',\n",
    "        'axes.titlesize':'x-large',\n",
    "        'xtick.labelsize':'x-large',\n",
    "        'ytick.labelsize':'x-large'}\n",
    "pylab.rcParams.update(params)\n",
    "\n",
    "import pandas as pd\n",
    "import numpy as np\n",
    "\n",
    "import datetime\n",
    "import pytz\n",
    "NY_tz = pytz.timezone(\"America/New_York\") \n",
    "CHI_tz = pytz.timezone(\"America/Chicago\") \n",
    "UTC_tz = pytz.timezone(\"UTC\") "
   ]
  },
  {
   "cell_type": "code",
   "execution_count": 2,
   "id": "50d5f561",
   "metadata": {},
   "outputs": [],
   "source": [
    "import datetime\n",
    "import ujson as json\n",
    "from pathlib import Path\n",
    "from typing import Iterable, Optional\n",
    "\n",
    "import pandas as pd\n",
    "import pyarrow as pa\n",
    "import pyarrow.parquet as pq\n",
    "import pyarrow.dataset as ds\n",
    "import QuantLib as ql\n",
    "import tqdm\n",
    "\n",
    "\n",
    "def _df_to_parquet(df: pd.DataFrame, path: Path, *, compression: Optional[str] = \"zstd\"):\n",
    "    out = df.copy()\n",
    "    for col in out.columns:\n",
    "        s = out[col]\n",
    "\n",
    "    if s.dtype == \"object\" and s.map(type).nunique() > 1:\n",
    "        out[col] = s.astype(str)\n",
    "\n",
    "    path.parent.mkdir(parents=True, exist_ok=True)\n",
    "    tbl = pa.Table.from_pandas(out, preserve_index=False)\n",
    "    pq.write_table(tbl, path, compression=compression)"
   ]
  },
  {
   "cell_type": "code",
   "execution_count": 3,
   "id": "0e1c0110",
   "metadata": {},
   "outputs": [],
   "source": [
    "PATH_STORE = {\n",
    "    \"2Y\": Path(\"./TRACE_2Y\"),\n",
    "    \"3Y\": Path(\"./TRACE_3Y\"),\n",
    "    \"5Y\": Path(\"./TRACE_5Y\"),\n",
    "    \"7Y\": Path(\"./TRACE_7Y\"),\n",
    "    \"10Y\": Path(\"./TRACE_10Y\"),\n",
    "    \"20Y\": Path(\"./TRACE_20Y\"),\n",
    "    \"30Y\": Path(\"./TRACE_30Y\"),\n",
    "}"
   ]
  },
  {
   "cell_type": "code",
   "execution_count": 4,
   "id": "77fae12c",
   "metadata": {},
   "outputs": [],
   "source": [
    "from FinraFetcher import FinraDataFetcher\n",
    "ff = FinraDataFetcher(\n",
    "    debug_verbose=True,\n",
    "\tinfo_verbose=True,\n",
    "\terror_verbose=True,\n",
    ")"
   ]
  },
  {
   "cell_type": "code",
   "execution_count": 12,
   "id": "7d7fdf57",
   "metadata": {},
   "outputs": [
    {
     "data": {
      "text/plain": [
       "DatetimeIndex(['2025-08-11', '2025-08-12', '2025-08-13', '2025-08-14',\n",
       "               '2025-08-15'],\n",
       "              dtype='datetime64[ns]', freq='B')"
      ]
     },
     "execution_count": 12,
     "metadata": {},
     "output_type": "execute_result"
    }
   ],
   "source": [
    "start = datetime.datetime(2025, 8, 11)\n",
    "end = datetime.datetime(2025, 8, 15)\n",
    "bdays = pd.date_range(start=start, end=end, freq=\"1b\")\n",
    "bdays"
   ]
  },
  {
   "cell_type": "code",
   "execution_count": null,
   "id": "5ca54649",
   "metadata": {},
   "outputs": [
    {
     "name": "stderr",
     "output_type": "stream",
     "text": [
      "2025-09-27 23:18:49,581 - FinraDataFetcher - INFO - TRACE - FINRA proxy set: DIRECT\n",
      "INFO\tTask(Task-3) FinraDataFetcher:FinraFetcher.py:_get_sticky_proxy_url()- TRACE - FINRA proxy set: DIRECT\n",
      "2025-09-27 23:19:48,325 - FinraDataFetcher - INFO - TRACE(h2) - FINRA totals probe took: 58.535s\n",
      "INFO\tTask(Task-2773) FinraDataFetcher:FinraFetcher.py:_run()- TRACE(h2) - FINRA totals probe took: 58.535s\n",
      "2025-09-27 23:19:48,326 - FinraDataFetcher - DEBUG - TRACE(h2) - totals: {'2Y': 18972, '3Y': 29972, '5Y': 50408, '7Y': 19187, '10Y': 42031, '20Y': 8293, '30Y': 21590}\n",
      "DEBUG\tTask(Task-2773) FinraDataFetcher:FinraFetcher.py:_run()- TRACE(h2) - totals: {'2Y': 18972, '3Y': 29972, '5Y': 50408, '7Y': 19187, '10Y': 42031, '20Y': 8293, '30Y': 21590}\n",
      "2025-09-27 23:22:54,356 - FinraDataFetcher - INFO - TRACE(h2) - Fetch All Took: 186.028s\n",
      "INFO\tTask(Task-2773) FinraDataFetcher:FinraFetcher.py:_run()- TRACE(h2) - Fetch All Took: 186.028s\n",
      "2025-09-27 23:22:54,357 - FinraDataFetcher - INFO - TRACE(h2) - Total Time Elapsed: 245.829s\n",
      "INFO\tTask(Task-3) FinraDataFetcher:FinraFetcher.py:fetch_historcal_trace_trade_history_by_cusip_v3()- TRACE(h2) - Total Time Elapsed: 245.829s\n",
      "2025-09-27 23:22:55,946 - FinraDataFetcher - INFO - TRACE - FINRA proxy set: DIRECT\n",
      "INFO\tTask(Task-3) FinraDataFetcher:FinraFetcher.py:_get_sticky_proxy_url()- TRACE - FINRA proxy set: DIRECT\n",
      "2025-09-27 23:23:53,683 - FinraDataFetcher - INFO - TRACE(h2) - FINRA totals probe took: 57.560s\n",
      "INFO\tTask(Task-2829) FinraDataFetcher:FinraFetcher.py:_run()- TRACE(h2) - FINRA totals probe took: 57.560s\n",
      "2025-09-27 23:23:53,684 - FinraDataFetcher - DEBUG - TRACE(h2) - totals: {'2Y': 55360, '3Y': 46964, '5Y': 85580, '7Y': 31824, '10Y': 69714, '20Y': 14862, '30Y': 35604}\n",
      "DEBUG\tTask(Task-2829) FinraDataFetcher:FinraFetcher.py:_run()- TRACE(h2) - totals: {'2Y': 55360, '3Y': 46964, '5Y': 85580, '7Y': 31824, '10Y': 69714, '20Y': 14862, '30Y': 35604}\n"
     ]
    }
   ],
   "source": [
    "for bd in bdays:\n",
    "    try:\n",
    "        benchmarks = [\"2Y\", \"3Y\", \"5Y\", \"7Y\", \"10Y\", \"20Y\", \"30Y\"]\n",
    "        intraday_dict = ff.fetch_historcal_trace_trade_history_by_cusip_v3(\n",
    "            start_date=bd,\n",
    "            end_date=bd,\n",
    "            benchmark_terms=benchmarks,\n",
    "        )\n",
    "        for bm in benchmarks:\n",
    "            try:\n",
    "                PATH_STORE[bm].mkdir(parents=True, exist_ok=True)\n",
    "                output_path = PATH_STORE[bm] / f\"{bd.strftime('%Y-%m-%d')}.parquet\"\n",
    "                _df_to_parquet(intraday_dict[bm], output_path)\n",
    "            except Exception as e:\n",
    "                print(f\"error during write for {bm} on {bd}: {e}\")\n",
    "    except Exception as e:\n",
    "        print(f\"error during fetching for {bd}: {e}\")"
   ]
  },
  {
   "cell_type": "code",
   "execution_count": 7,
   "id": "8f88820e",
   "metadata": {},
   "outputs": [],
   "source": [
    "# for bd in bdays:\n",
    "#     benchmarks = [\"2Y\", \"3Y\", \"5Y\", \"7Y\", \"10Y\", \"20Y\", \"30Y\"]\n",
    "#     for bm in benchmarks:\n",
    "#         intraday_dict = ff.fetch_historcal_trace_trade_history_by_cusip(\n",
    "#             start_date=bd,\n",
    "#             end_date=bd,\n",
    "#             benchmark_terms=[bm],\n",
    "#         )\n",
    "#         PATH_STORE[bm].mkdir(parents=True, exist_ok=True)\n",
    "#         output_path = PATH_STORE[bm] / f\"incomplete_{bd.strftime('%Y-%m-%d')}.parquet\"\n",
    "#         _df_to_parquet(intraday_dict[bm], output_path)"
   ]
  },
  {
   "cell_type": "code",
   "execution_count": null,
   "id": "4a13470c",
   "metadata": {},
   "outputs": [],
   "source": []
  }
 ],
 "metadata": {
  "kernelspec": {
   "display_name": "stir",
   "language": "python",
   "name": "python3"
  },
  "language_info": {
   "codemirror_mode": {
    "name": "ipython",
    "version": 3
   },
   "file_extension": ".py",
   "mimetype": "text/x-python",
   "name": "python",
   "nbconvert_exporter": "python",
   "pygments_lexer": "ipython3",
   "version": "3.13.5"
  }
 },
 "nbformat": 4,
 "nbformat_minor": 5
}
