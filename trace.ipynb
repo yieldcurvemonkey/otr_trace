{
 "cells": [
  {
   "cell_type": "code",
   "execution_count": 30,
   "id": "9e23c727",
   "metadata": {},
   "outputs": [
    {
     "name": "stdout",
     "output_type": "stream",
     "text": [
      "The autoreload extension is already loaded. To reload it, use:\n",
      "  %reload_ext autoreload\n"
     ]
    }
   ],
   "source": [
    "%load_ext autoreload\n",
    "%autoreload 2\n",
    "%reload_ext autoreload\n",
    "\n",
    "import nest_asyncio\n",
    "nest_asyncio.apply()\n",
    "\n",
    "import plotly.express as px\n",
    "import plotly.graph_objects as go\n",
    "import plotly.io as pio\n",
    "pio.renderers.default = \"vscode\"            \n",
    "\n",
    "import matplotlib.pyplot as plt\n",
    "import matplotlib.pylab as pylab\n",
    "plt.style.use('ggplot')\n",
    "params = {'legend.fontsize': 'x-large',\n",
    "        'figure.figsize': (12, 8),\n",
    "        'axes.labelsize': 'x-large',\n",
    "        'axes.titlesize':'x-large',\n",
    "        'xtick.labelsize':'x-large',\n",
    "        'ytick.labelsize':'x-large'}\n",
    "pylab.rcParams.update(params)\n",
    "\n",
    "import pandas as pd\n",
    "import numpy as np\n",
    "\n",
    "import datetime\n",
    "import pytz\n",
    "NY_tz = pytz.timezone(\"America/New_York\") \n",
    "CHI_tz = pytz.timezone(\"America/Chicago\") \n",
    "UTC_tz = pytz.timezone(\"UTC\") "
   ]
  },
  {
   "cell_type": "code",
   "execution_count": 32,
   "id": "50d5f561",
   "metadata": {},
   "outputs": [],
   "source": [
    "import datetime\n",
    "import ujson as json\n",
    "from pathlib import Path\n",
    "from typing import Iterable, Optional\n",
    "\n",
    "import pandas as pd\n",
    "import pyarrow as pa\n",
    "import pyarrow.parquet as pq\n",
    "import pyarrow.dataset as ds\n",
    "import QuantLib as ql\n",
    "import tqdm\n",
    "\n",
    "\n",
    "def _df_to_parquet(df: pd.DataFrame, path: Path, *, compression: Optional[str] = \"zstd\"):\n",
    "    out = df.copy()\n",
    "    for col in out.columns:\n",
    "        s = out[col]\n",
    "\n",
    "    if s.dtype == \"object\" and s.map(type).nunique() > 1:\n",
    "        out[col] = s.astype(str)\n",
    "\n",
    "    path.parent.mkdir(parents=True, exist_ok=True)\n",
    "    tbl = pa.Table.from_pandas(out, preserve_index=False)\n",
    "    pq.write_table(tbl, path, compression=compression)"
   ]
  },
  {
   "cell_type": "code",
   "execution_count": 33,
   "id": "0e1c0110",
   "metadata": {},
   "outputs": [],
   "source": [
    "PATH_STORE = {\n",
    "    \"2Y\": Path(\"./TRACE_2Y\"),\n",
    "    \"3Y\": Path(\"./TRACE_3Y\"),\n",
    "    \"5Y\": Path(\"./TRACE_5Y\"),\n",
    "    \"7Y\": Path(\"./TRACE_7Y\"),\n",
    "    \"10Y\": Path(\"./TRACE_10Y\"),\n",
    "    \"20Y\": Path(\"./TRACE_20Y\"),\n",
    "    \"30Y\": Path(\"./TRACE_30Y\"),\n",
    "}"
   ]
  },
  {
   "cell_type": "code",
   "execution_count": 34,
   "id": "77fae12c",
   "metadata": {},
   "outputs": [],
   "source": [
    "from FinraFetcher import FinraDataFetcher\n",
    "ff = FinraDataFetcher(\n",
    "    debug_verbose=True,\n",
    "\tinfo_verbose=True,\n",
    "\terror_verbose=True,\n",
    ")"
   ]
  },
  {
   "cell_type": "code",
   "execution_count": 41,
   "id": "7d7fdf57",
   "metadata": {},
   "outputs": [
    {
     "data": {
      "text/plain": [
       "DatetimeIndex(['2025-09-15', '2025-09-16', '2025-09-17', '2025-09-18',\n",
       "               '2025-09-19'],\n",
       "              dtype='datetime64[ns]', freq='B')"
      ]
     },
     "execution_count": 41,
     "metadata": {},
     "output_type": "execute_result"
    }
   ],
   "source": [
    "start = datetime.datetime(2025, 9, 15)\n",
    "end = datetime.datetime(2025, 9, 19)\n",
    "bdays = pd.date_range(start=start, end=end, freq=\"1b\")\n",
    "bdays"
   ]
  },
  {
   "cell_type": "code",
   "execution_count": null,
   "id": "5ca54649",
   "metadata": {},
   "outputs": [
    {
     "name": "stderr",
     "output_type": "stream",
     "text": [
      "2025-09-27 17:44:41,612 - FinraDataFetcher - INFO - TRACE - FINRA totals probe took: 65.605s\n",
      "INFO\tTask(Task-1776) FinraDataFetcher:FinraFetcher.py:_run()- TRACE - FINRA totals probe took: 65.605s\n",
      "2025-09-27 17:44:41,613 - FinraDataFetcher - DEBUG - TRACE - totals: {'2Y': 35822, '3Y': 37802, '5Y': 63586, '7Y': 22161, '10Y': 54780, '20Y': 11990, '30Y': 26319}\n",
      "DEBUG\tTask(Task-1776) FinraDataFetcher:FinraFetcher.py:_run()- TRACE - totals: {'2Y': 35822, '3Y': 37802, '5Y': 63586, '7Y': 22161, '10Y': 54780, '20Y': 11990, '30Y': 26319}\n",
      "2025-09-27 17:52:33,261 - FinraDataFetcher - INFO - TRACE - Fetch All Took: 471.647s\n",
      "INFO\tTask(Task-1776) FinraDataFetcher:FinraFetcher.py:_run()- TRACE - Fetch All Took: 471.647s\n",
      "2025-09-27 17:52:33,264 - FinraDataFetcher - INFO - TRACE - Total Time Elapsed: 537.435s\n",
      "INFO\tTask(Task-2) FinraDataFetcher:FinraFetcher.py:fetch_historcal_trace_trade_history_by_cusip_v2()- TRACE - Total Time Elapsed: 537.435s\n",
      "2025-09-27 17:53:36,324 - FinraDataFetcher - INFO - TRACE - FINRA totals probe took: 62.427s\n",
      "INFO\tTask(Task-1944) FinraDataFetcher:FinraFetcher.py:_run()- TRACE - FINRA totals probe took: 62.427s\n",
      "2025-09-27 17:53:36,325 - FinraDataFetcher - DEBUG - TRACE - totals: {'2Y': 36305, '3Y': 37011, '5Y': 75094, '7Y': 25483, '10Y': 65992, '20Y': 18951, '30Y': 31048}\n",
      "DEBUG\tTask(Task-1944) FinraDataFetcher:FinraFetcher.py:_run()- TRACE - totals: {'2Y': 36305, '3Y': 37011, '5Y': 75094, '7Y': 25483, '10Y': 65992, '20Y': 18951, '30Y': 31048}\n",
      "2025-09-27 18:14:11,803 - FinraDataFetcher - INFO - TRACE - Fetch All Took: 1235.477s\n",
      "INFO\tTask(Task-1944) FinraDataFetcher:FinraFetcher.py:_run()- TRACE - Fetch All Took: 1235.477s\n",
      "2025-09-27 18:14:11,805 - FinraDataFetcher - INFO - TRACE - Total Time Elapsed: 1298.073s\n",
      "INFO\tTask(Task-2) FinraDataFetcher:FinraFetcher.py:fetch_historcal_trace_trade_history_by_cusip_v2()- TRACE - Total Time Elapsed: 1298.073s\n",
      "2025-09-27 18:16:57,410 - FinraDataFetcher - INFO - TRACE - FINRA totals probe took: 165.001s\n",
      "INFO\tTask(Task-2254) FinraDataFetcher:FinraFetcher.py:_run()- TRACE - FINRA totals probe took: 165.001s\n",
      "2025-09-27 18:16:57,411 - FinraDataFetcher - DEBUG - TRACE - totals: {'2Y': 51795, '3Y': 51232, '5Y': 112806, '7Y': 43529, '10Y': 96630, '20Y': 16277, '30Y': 37963}\n",
      "DEBUG\tTask(Task-2254) FinraDataFetcher:FinraFetcher.py:_run()- TRACE - totals: {'2Y': 51795, '3Y': 51232, '5Y': 112806, '7Y': 43529, '10Y': 96630, '20Y': 16277, '30Y': 37963}\n"
     ]
    }
   ],
   "source": [
    "for bd in bdays:\n",
    "    try:\n",
    "        benchmarks = [\"2Y\", \"3Y\", \"5Y\", \"7Y\", \"10Y\", \"20Y\", \"30Y\"]\n",
    "        intraday_dict = ff.fetch_historcal_trace_trade_history_by_cusip_v2(\n",
    "            start_date=bd,\n",
    "            end_date=bd,\n",
    "            benchmark_terms=benchmarks,\n",
    "            # session_timeout_minutes=8,\n",
    "            # max_connections=8,\n",
    "            # max_in_flight=3,\n",
    "            force_close=False,\n",
    "        )\n",
    "        for bm in benchmarks:\n",
    "            try:\n",
    "                PATH_STORE[bm].mkdir(parents=True, exist_ok=True)\n",
    "                output_path = PATH_STORE[bm] / f\"{bd.strftime('%Y-%m-%d')}.parquet\"\n",
    "                _df_to_parquet(intraday_dict[bm], output_path)\n",
    "            except Exception as e:\n",
    "                print(f\"error during write for {bm} on {bd}: {e}\")\n",
    "    except Exception as e:\n",
    "        print(f\"error during fetching for {bd}: {e}\")"
   ]
  },
  {
   "cell_type": "code",
   "execution_count": null,
   "id": "8f88820e",
   "metadata": {},
   "outputs": [],
   "source": [
    "# for bd in bdays:\n",
    "#     benchmarks = [\"2Y\", \"3Y\", \"5Y\", \"7Y\", \"10Y\", \"20Y\", \"30Y\"]\n",
    "#     for bm in benchmarks:\n",
    "#         intraday_dict = ff.fetch_historcal_trace_trade_history_by_cusip(\n",
    "#             start_date=bd,\n",
    "#             end_date=bd,\n",
    "#             benchmark_terms=[bm],\n",
    "#         )\n",
    "#         PATH_STORE[bm].mkdir(parents=True, exist_ok=True)\n",
    "#         output_path = PATH_STORE[bm] / f\"incomplete_{bd.strftime('%Y-%m-%d')}.parquet\"\n",
    "#         _df_to_parquet(intraday_dict[bm], output_path)"
   ]
  }
 ],
 "metadata": {
  "kernelspec": {
   "display_name": "stir",
   "language": "python",
   "name": "python3"
  },
  "language_info": {
   "codemirror_mode": {
    "name": "ipython",
    "version": 3
   },
   "file_extension": ".py",
   "mimetype": "text/x-python",
   "name": "python",
   "nbconvert_exporter": "python",
   "pygments_lexer": "ipython3",
   "version": "3.13.5"
  }
 },
 "nbformat": 4,
 "nbformat_minor": 5
}
